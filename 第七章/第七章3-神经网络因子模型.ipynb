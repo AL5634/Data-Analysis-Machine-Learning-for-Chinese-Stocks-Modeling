{
 "cells": [
  {
   "cell_type": "code",
   "execution_count": 6,
   "id": "f78cd1d1-868b-4b48-8249-3157a7b551fd",
   "metadata": {},
   "outputs": [],
   "source": [
    "import pandas as pd\n",
    "import numpy as np\n",
    "import matplotlib.pyplot as plt\n",
    "from sklearn.model_selection import train_test_split\n",
    "from sklearn.preprocessing import StandardScaler\n",
    "import tensorflow as tf\n",
    "from tensorflow.keras.models import Sequential\n",
    "from tensorflow.keras.layers import Dense\n",
    "from tensorflow.keras.callbacks import History\n",
    "from sklearn.preprocessing import MinMaxScaler\n",
    "\n",
    "# Load the dataset\n",
    "data = pd.read_csv('/Users/xiaoquanliu/Desktop/Book_DataCode/第七章/ML_Data1.csv')\n",
    "data=data.dropna()\n",
    "\n"
   ]
  },
  {
   "cell_type": "code",
   "execution_count": 7,
   "id": "b79e12fb-b338-4471-929b-547620259136",
   "metadata": {},
   "outputs": [
    {
     "name": "stdout",
     "output_type": "stream",
     "text": [
      "        Return  Volatility     Beta1     Beta2      Cor1      Cor2  \\\n",
      "0     0.100000    0.636524  1.344635  1.359665  0.380837  0.388703   \n",
      "1    -0.043771    0.635464  1.350340  1.364497  0.382936  0.390602   \n",
      "2    -0.010563    0.628295  1.368196  1.383920  0.393167  0.401384   \n",
      "3    -0.037367    0.623566  1.368544  1.383909  0.395966  0.404139   \n",
      "4     0.003697    0.623572  1.368547  1.383838  0.396009  0.404171   \n",
      "...        ...         ...       ...       ...       ...       ...   \n",
      "1383  0.005339    0.425182  0.444080  0.441754  0.152891  0.154969   \n",
      "1384  0.015175    0.425271  0.457091  0.453909  0.157041  0.158926   \n",
      "1385 -0.005232    0.422707  0.449969  0.446555  0.155777  0.157493   \n",
      "1386  0.011270    0.422848  0.458732  0.455824  0.158544  0.160416   \n",
      "1387 -0.002972    0.422059  0.442915  0.440384  0.152184  0.154046   \n",
      "\n",
      "      NonSysRisk1  NonSysRisk2      Rsq1      Rsq2  ...  \\\n",
      "0        0.059495     0.061978  0.145037  0.151090  ...   \n",
      "1        0.059967     0.062392  0.146640  0.152570  ...   \n",
      "2        0.061703     0.064308  0.154581  0.161109  ...   \n",
      "3        0.061734     0.064309  0.156789  0.163328  ...   \n",
      "4        0.061748     0.064320  0.156823  0.163355  ...   \n",
      "...           ...          ...       ...       ...  ...   \n",
      "1383     0.004257     0.004374  0.023376  0.024016  ...   \n",
      "1384     0.004493     0.004602  0.024662  0.025257  ...   \n",
      "1385     0.004370     0.004467  0.024266  0.024804  ...   \n",
      "1386     0.004530     0.004637  0.025136  0.025733  ...   \n",
      "1387     0.004158     0.004261  0.023160  0.023730  ...   \n",
      "\n",
      "      NetProfitGrowth EquityGrowth  NetProfitGrowth RevenueGrowth  \\\n",
      "0                         0.079235                      -0.037924   \n",
      "1                         0.079235                      -0.037924   \n",
      "2                         0.079235                      -0.037924   \n",
      "3                         0.079235                      -0.037924   \n",
      "4                         0.079235                      -0.037924   \n",
      "...                            ...                            ...   \n",
      "1383                     -0.103004                      -0.023557   \n",
      "1384                     -0.103004                      -0.023557   \n",
      "1385                     -0.103004                      -0.023557   \n",
      "1386                     -0.103004                      -0.023557   \n",
      "1387                     -0.103004                      -0.023557   \n",
      "\n",
      "      NetProfitGrowth OperatingNCFGrowth  NetProfitGrowth OGS  \\\n",
      "0                              -0.343710             1.837353   \n",
      "1                              -0.343710             1.837353   \n",
      "2                              -0.343710             1.837353   \n",
      "3                              -0.343710             1.837353   \n",
      "4                              -0.343710             1.837353   \n",
      "...                                  ...                  ...   \n",
      "1383                            0.019823            -0.011898   \n",
      "1384                            0.019823            -0.011898   \n",
      "1385                            0.019823            -0.011898   \n",
      "1386                            0.019823            -0.011898   \n",
      "1387                            0.019823            -0.011898   \n",
      "\n",
      "      EquityGrowth RevenueGrowth  EquityGrowth OperatingNCFGrowth  \\\n",
      "0                      -0.000393                        -0.003559   \n",
      "1                      -0.000393                        -0.003559   \n",
      "2                      -0.000393                        -0.003559   \n",
      "3                      -0.000393                        -0.003559   \n",
      "4                      -0.000393                        -0.003559   \n",
      "...                          ...                              ...   \n",
      "1383                    0.041025                        -0.034522   \n",
      "1384                    0.041025                        -0.034522   \n",
      "1385                    0.041025                        -0.034522   \n",
      "1386                    0.041025                        -0.034522   \n",
      "1387                    0.041025                        -0.034522   \n",
      "\n",
      "      EquityGrowth OGS  RevenueGrowth OperatingNCFGrowth  RevenueGrowth OGS  \\\n",
      "0             0.019026                          0.001704          -0.009106   \n",
      "1             0.019026                          0.001704          -0.009106   \n",
      "2             0.019026                          0.001704          -0.009106   \n",
      "3             0.019026                          0.001704          -0.009106   \n",
      "4             0.019026                          0.001704          -0.009106   \n",
      "...                ...                               ...                ...   \n",
      "1383          0.020721                         -0.007895           0.004739   \n",
      "1384          0.020721                         -0.007895           0.004739   \n",
      "1385          0.020721                         -0.007895           0.004739   \n",
      "1386          0.020721                         -0.007895           0.004739   \n",
      "1387          0.020721                         -0.007895           0.004739   \n",
      "\n",
      "      OperatingNCFGrowth OGS  \n",
      "0                  -0.082532  \n",
      "1                  -0.082532  \n",
      "2                  -0.082532  \n",
      "3                  -0.082532  \n",
      "4                  -0.082532  \n",
      "...                      ...  \n",
      "1383               -0.003988  \n",
      "1384               -0.003988  \n",
      "1385               -0.003988  \n",
      "1386               -0.003988  \n",
      "1387               -0.003988  \n",
      "\n",
      "[1388 rows x 630 columns]\n"
     ]
    }
   ],
   "source": [
    "\n",
    "\n",
    "features = data.iloc[:, :-1] \n",
    "target = data.iloc[:, -1]\n",
    "from sklearn.preprocessing import PolynomialFeatures\n",
    "\n",
    "\n",
    "# 创建一个 PolynomialFeatures 对象，设置 degree=2 来生成两两交互的特征\n",
    "poly = PolynomialFeatures(degree=2, interaction_only=True, include_bias=False)\n",
    "\n",
    "# 使用 PolynomialFeatures 对象转换你的数据\n",
    "features_poly = poly.fit_transform(features)\n",
    "\n",
    "# 将交互特征转换为 DataFrame，并添加列名\n",
    "features_poly_df = pd.DataFrame(features_poly, columns=poly.get_feature_names_out(features.columns))\n",
    "\n",
    "# 打印结果\n",
    "print(features_poly_df)\n",
    "\n",
    "# features_poly_df 包含了原始特征和它们的两两交互项\n",
    "\n",
    "scaler = MinMaxScaler()\n",
    "features_scaled = scaler.fit_transform(features_poly_df)\n",
    "features_train, features_test, target_train, target_test = train_test_split(features_scaled, target, test_size=0.2, random_state=42)\n",
    "\n",
    "input_dim = features_train.shape[1]  "
   ]
  },
  {
   "cell_type": "code",
   "execution_count": 8,
   "id": "b9c3e336-565f-4b7b-874f-072c6855a1ca",
   "metadata": {},
   "outputs": [
    {
     "name": "stdout",
     "output_type": "stream",
     "text": [
      "Epoch 1/10\n",
      "35/35 [==============================] - 0s 3ms/step - loss: 11.0697 - val_loss: 7.0078\n",
      "Epoch 2/10\n",
      "35/35 [==============================] - 0s 1ms/step - loss: 4.7247 - val_loss: 2.8575\n",
      "Epoch 3/10\n",
      "35/35 [==============================] - 0s 1ms/step - loss: 1.8832 - val_loss: 1.1045\n",
      "Epoch 4/10\n",
      "35/35 [==============================] - 0s 1ms/step - loss: 0.7144 - val_loss: 0.4087\n",
      "Epoch 5/10\n",
      "35/35 [==============================] - 0s 1ms/step - loss: 0.2607 - val_loss: 0.1467\n",
      "Epoch 6/10\n",
      "35/35 [==============================] - 0s 1ms/step - loss: 0.0927 - val_loss: 0.0518\n",
      "Epoch 7/10\n",
      "35/35 [==============================] - 0s 1ms/step - loss: 0.0325 - val_loss: 0.0183\n",
      "Epoch 8/10\n",
      "35/35 [==============================] - 0s 1ms/step - loss: 0.0115 - val_loss: 0.0068\n",
      "Epoch 9/10\n",
      "35/35 [==============================] - 0s 1ms/step - loss: 0.0044 - val_loss: 0.0029\n",
      "Epoch 10/10\n",
      "35/35 [==============================] - 0s 1ms/step - loss: 0.0020 - val_loss: 0.0017\n"
     ]
    },
    {
     "data": {
      "text/plain": [
       "<keras.callbacks.History at 0x7fb6710c3160>"
      ]
     },
     "execution_count": 8,
     "metadata": {},
     "output_type": "execute_result"
    }
   ],
   "source": [
    "\n",
    "# Separate features and target variable\n",
    "X = data.drop('Return', axis=1)\n",
    "y = data['Return']\n",
    "\n",
    "# Split the data into training and testing sets\n",
    "X_train, X_test, y_train, y_test = train_test_split(X, y, test_size=0.2, random_state=42)\n",
    "\n",
    "# Scale the features using StandardScaler\n",
    "scaler = StandardScaler()\n",
    "X_train_scaled = scaler.fit_transform(X_train)\n",
    "X_test_scaled = scaler.transform(X_test)\n",
    "\n",
    "# Design the neural network model with L2 regularization\n",
    "model = Sequential()\n",
    "model.add(Dense(256, activation='relu', input_shape=(35,), kernel_regularizer=tf.keras.regularizers.l2(0.05)))\n",
    "model.add(Dense(128, activation='relu', kernel_regularizer=tf.keras.regularizers.l2(0.05)))\n",
    "model.add(Dense(64, activation='relu', kernel_regularizer=tf.keras.regularizers.l2(0.05)))\n",
    "model.add(Dense(1))\n",
    "\n",
    "# Compile the model\n",
    "model.compile(optimizer='adam', loss='mean_squared_error')\n",
    "\n",
    "# Train the model\n",
    "history = History()\n",
    "model.fit(X_train_scaled, y_train, epochs=10, batch_size=32, validation_data=(X_test_scaled, y_test), callbacks=[history])"
   ]
  },
  {
   "cell_type": "code",
   "execution_count": 9,
   "id": "caea8b13-172b-46fe-97b7-f73406ae686e",
   "metadata": {},
   "outputs": [
    {
     "data": {
      "image/png": "[encoded data removed]",
      "text/plain": [
       "<Figure size 640x480 with 1 Axes>"
      ]
     },
     "metadata": {},
     "output_type": "display_data"
    }
   ],
   "source": [
    "# Visualize the training process and results\n",
    "plt.plot(history.history['loss'], label='Training Loss')\n",
    "plt.plot(history.history['val_loss'], label='Validation Loss')\n",
    "plt.xlabel('Epochs')\n",
    "plt.ylabel('Loss')\n",
    "plt.legend()\n",
    "plt.show()\n"
   ]
  },
  {
   "cell_type": "code",
   "execution_count": 10,
   "id": "e8a8066c-35b6-4747-87c2-9d00e9e283ad",
   "metadata": {},
   "outputs": [
    {
     "name": "stdout",
     "output_type": "stream",
     "text": [
      "9/9 [==============================] - 0s 781us/step\n",
      "MSE: 0.0011828684361052358\n"
     ]
    }
   ],
   "source": [
    "from sklearn.metrics import mean_squared_error, r2_score\n",
    "\n",
    "# Make predictions on test data\n",
    "y_pred = model.predict(X_test_scaled)\n",
    "\n",
    "# Calculate MSE\n",
    "mse = mean_squared_error(y_test, y_pred)\n",
    "print(\"MSE:\", mse)\n",
    "\n",
    "\n"
   ]
  },
  {
   "cell_type": "code",
   "execution_count": null,
   "id": "4b5bdc1d-2377-4d19-8a8e-0585d02ffdeb",
   "metadata": {},
   "outputs": [],
   "source": []
  }
 ],
 "metadata": {
  "kernelspec": {
   "display_name": "Python 3 (ipykernel)",
   "language": "python",
   "name": "python3"
  },
  "language_info": {
   "codemirror_mode": {
    "name": "ipython",
    "version": 3
   },
   "file_extension": ".py",
   "mimetype": "text/x-python",
   "name": "python",
   "nbconvert_exporter": "python",
   "pygments_lexer": "ipython3",
   "version": "3.10.9"
  }
 },
 "nbformat": 4,
 "nbformat_minor": 5
}
